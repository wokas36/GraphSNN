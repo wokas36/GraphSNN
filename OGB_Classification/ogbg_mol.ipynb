{
 "cells": [
  {
   "cell_type": "code",
   "execution_count": 1,
   "id": "injured-vermont",
   "metadata": {},
   "outputs": [
    {
     "name": "stderr",
     "output_type": "stream",
     "text": [
      "Using backend: pytorch\n"
     ]
    }
   ],
   "source": [
    "import torch\n",
    "from torch_geometric.data import DataLoader, Data\n",
    "import torch.optim as optim\n",
    "import torch.nn.functional as F\n",
    "import networkx as nx\n",
    "\n",
    "from gnn import GNN\n",
    "\n",
    "from tqdm import tqdm\n",
    "import argparse\n",
    "import time\n",
    "import numpy as np\n",
    "\n",
    "from time import process_time\n",
    "\n",
    "### importing OGB\n",
    "from ogb.graphproppred import PygGraphPropPredDataset, Evaluator\n",
    "\n",
    "cls_criterion = torch.nn.BCEWithLogitsLoss()\n",
    "reg_criterion = torch.nn.MSELoss()\n",
    "\n",
    "def train(model, device, loader, optimizer, task_type):\n",
    "    model.train()\n",
    "\n",
    "    for step, batch in enumerate(tqdm(loader, desc=\"Iteration\")):\n",
    "        batch = batch.to(device)\n",
    "\n",
    "        if batch.x.shape[0] == 1 or batch.batch[-1] == 0:\n",
    "            pass\n",
    "        else:\n",
    "            pred = model(batch)\n",
    "            optimizer.zero_grad()\n",
    "            ## ignore nan targets (unlabeled) when computing training loss.\n",
    "            is_labeled = batch.y == batch.y\n",
    "            if \"classification\" in task_type: \n",
    "                loss = cls_criterion(pred.to(torch.float32)[is_labeled], batch.y.to(torch.float32)[is_labeled])\n",
    "            else:\n",
    "                loss = reg_criterion(pred.to(torch.float32)[is_labeled], batch.y.to(torch.float32)[is_labeled])\n",
    "            loss.backward()\n",
    "            optimizer.step()\n",
    "\n",
    "def eval(model, device, loader, evaluator):\n",
    "    model.eval()\n",
    "    y_true = []\n",
    "    y_pred = []\n",
    "\n",
    "    for step, batch in enumerate(tqdm(loader, desc=\"Iteration\")):\n",
    "        batch = batch.to(device)\n",
    "\n",
    "        if batch.x.shape[0] == 1:\n",
    "            pass\n",
    "        else:\n",
    "            with torch.no_grad():\n",
    "                pred = model(batch)\n",
    "\n",
    "            y_true.append(batch.y.view(pred.shape).detach().cpu())\n",
    "            y_pred.append(pred.detach().cpu())\n",
    "\n",
    "    y_true = torch.cat(y_true, dim = 0).numpy()\n",
    "    y_pred = torch.cat(y_pred, dim = 0).numpy()\n",
    "\n",
    "    input_dict = {\"y_true\": y_true, \"y_pred\": y_pred}\n",
    "\n",
    "    return evaluator.eval(input_dict)"
   ]
  },
  {
   "cell_type": "code",
   "execution_count": 2,
   "id": "timely-cooperative",
   "metadata": {},
   "outputs": [],
   "source": [
    "def add_structural_coefficients(dataset):\n",
    "    data_list = []\n",
    "    dataset_length = len(dataset)\n",
    "    for itr in np.arange(dataset_length):\n",
    "        row, col = dataset[itr]['edge_index']\n",
    "        num_of_nodes = dataset[itr]['x'].shape[0]\n",
    "        adj = torch.zeros(num_of_nodes, num_of_nodes)\n",
    "        for i in np.arange(row.shape[0]):\n",
    "            adj[row[i]][col[i]]=1.0\n",
    "\n",
    "        A_array = adj.detach().numpy()\n",
    "        G = nx.from_numpy_matrix(A_array)\n",
    "    \n",
    "        sub_graphs = []\n",
    "        subgraph_nodes_list = []\n",
    "        sub_graphs_adj = []\n",
    "        sub_graph_edges = []\n",
    "        new_adj = torch.zeros(A_array.shape[0], A_array.shape[0])\n",
    "\n",
    "        for i in np.arange(len(A_array)):\n",
    "            s_indexes = []\n",
    "            for j in np.arange(len(A_array)):\n",
    "                s_indexes.append(i)\n",
    "                if(A_array[i][j]==1):\n",
    "                    s_indexes.append(j)\n",
    "            sub_graphs.append(G.subgraph(s_indexes))\n",
    "\n",
    "        for i in np.arange(len(sub_graphs)):\n",
    "            subgraph_nodes_list.append(list(sub_graphs[i].nodes))\n",
    "\n",
    "        for index in np.arange(len(sub_graphs)):\n",
    "            sub_graphs_adj.append(nx.adjacency_matrix(sub_graphs[index]).toarray())\n",
    "\n",
    "        for index in np.arange(len(sub_graphs)):\n",
    "            sub_graph_edges.append(sub_graphs[index].number_of_edges())\n",
    "\n",
    "        for node in np.arange(len(subgraph_nodes_list)):\n",
    "            sub_adj = sub_graphs_adj[node]\n",
    "            for neighbors in np.arange(len(subgraph_nodes_list[node])):\n",
    "                index = subgraph_nodes_list[node][neighbors]\n",
    "                count = torch.tensor(0).float()\n",
    "                if(index==node):\n",
    "                    continue\n",
    "                else:\n",
    "                    c_neighbors = set(subgraph_nodes_list[node]).intersection(subgraph_nodes_list[index])\n",
    "                    if index in c_neighbors:\n",
    "                        nodes_list = subgraph_nodes_list[node]\n",
    "                        sub_graph_index = nodes_list.index(index)\n",
    "                        c_neighbors_list = list(c_neighbors)\n",
    "                        for i, item1 in enumerate(nodes_list):\n",
    "                            if(item1 in c_neighbors):\n",
    "                                for item2 in c_neighbors_list:\n",
    "                                    j = nodes_list.index(item2)\n",
    "                                    count += sub_adj[i][j]\n",
    "\n",
    "                    new_adj[node][index] = count/2\n",
    "                    new_adj[node][index] = new_adj[node][index]/(len(c_neighbors)*(len(c_neighbors)-1))\n",
    "                    new_adj[node][index] = new_adj[node][index] * (len(c_neighbors)**2)\n",
    "\n",
    "        weight = torch.FloatTensor(new_adj)\n",
    "        weight = weight / weight.sum(1, keepdim=True)\n",
    "        weight = weight + torch.FloatTensor(A_array)\n",
    "\n",
    "        weight = weight.detach().numpy()\n",
    "        weight = np.nan_to_num(weight, nan=0)\n",
    "        weight = torch.FloatTensor(weight)\n",
    "        coeff = weight.sum(1, keepdim=True)\n",
    "        coeff = (coeff.T)[0]\n",
    "\n",
    "        weight = weight.detach().numpy()\n",
    "\n",
    "        data = Data(edge_attr=dataset[itr]['edge_attr'], edge_index=dataset[itr]['edge_index'], x=dataset[itr]['x'], \n",
    "                    y=dataset[itr]['y'])\n",
    "        data.norm_edge_weight = torch.FloatTensor(weight[np.nonzero(weight)])\n",
    "        data.norm_self_loop = torch.FloatTensor(coeff)\n",
    "\n",
    "        data_list.append(data)\n",
    "\n",
    "    return data_list\n"
   ]
  },
  {
   "cell_type": "code",
   "execution_count": null,
   "id": "attractive-preview",
   "metadata": {},
   "outputs": [
    {
     "name": "stderr",
     "output_type": "stream",
     "text": [
      "\r",
      "Iteration:   0%|                                                                              | 0/1029 [00:00<?, ?it/s]"
     ]
    },
    {
     "name": "stdout",
     "output_type": "stream",
     "text": [
      "=====Epoch 1\n",
      "Training...\n"
     ]
    },
    {
     "name": "stderr",
     "output_type": "stream",
     "text": [
      "Iteration: 100%|███████████████████████████████████████████████████████████████████| 1029/1029 [10:30<00:00,  1.63it/s]\n",
      "Iteration:   0%|                                                                      | 1/1029 [00:00<02:46,  6.16it/s]"
     ]
    },
    {
     "name": "stdout",
     "output_type": "stream",
     "text": [
      "Evaluating...\n"
     ]
    },
    {
     "name": "stderr",
     "output_type": "stream",
     "text": [
      "Iteration: 100%|███████████████████████████████████████████████████████████████████| 1029/1029 [02:30<00:00,  6.82it/s]\n",
      "Iteration: 100%|█████████████████████████████████████████████████████████████████████| 129/129 [00:24<00:00,  5.23it/s]\n",
      "Iteration: 100%|█████████████████████████████████████████████████████████████████████| 129/129 [00:21<00:00,  5.98it/s]\n",
      "Iteration:   0%|                                                                              | 0/1029 [00:00<?, ?it/s]"
     ]
    },
    {
     "name": "stdout",
     "output_type": "stream",
     "text": [
      "{'Train': {'rocauc': 0.7452203837953704}, 'Validation': {'rocauc': 0.7474157358416618}, 'Test': {'rocauc': 0.732503524594913}}\n",
      "=====Epoch 2\n",
      "Training...\n"
     ]
    },
    {
     "name": "stderr",
     "output_type": "stream",
     "text": [
      "Iteration: 100%|███████████████████████████████████████████████████████████████████| 1029/1029 [10:43<00:00,  1.60it/s]\n",
      "Iteration:   0%|                                                                      | 1/1029 [00:00<02:44,  6.27it/s]"
     ]
    },
    {
     "name": "stdout",
     "output_type": "stream",
     "text": [
      "Evaluating...\n"
     ]
    },
    {
     "name": "stderr",
     "output_type": "stream",
     "text": [
      "Iteration: 100%|███████████████████████████████████████████████████████████████████| 1029/1029 [02:55<00:00,  5.86it/s]\n",
      "Iteration: 100%|█████████████████████████████████████████████████████████████████████| 129/129 [00:27<00:00,  4.69it/s]\n",
      "Iteration: 100%|█████████████████████████████████████████████████████████████████████| 129/129 [00:23<00:00,  5.58it/s]\n",
      "Iteration:   0%|                                                                              | 0/1029 [00:00<?, ?it/s]"
     ]
    },
    {
     "name": "stdout",
     "output_type": "stream",
     "text": [
      "{'Train': {'rocauc': 0.7688748224840303}, 'Validation': {'rocauc': 0.7828911914560063}, 'Test': {'rocauc': 0.7546997817648082}}\n",
      "=====Epoch 3\n",
      "Training...\n"
     ]
    },
    {
     "name": "stderr",
     "output_type": "stream",
     "text": [
      "Iteration: 100%|███████████████████████████████████████████████████████████████████| 1029/1029 [10:14<00:00,  1.68it/s]\n",
      "Iteration:   0%|                                                                      | 1/1029 [00:00<02:29,  6.87it/s]"
     ]
    },
    {
     "name": "stdout",
     "output_type": "stream",
     "text": [
      "Evaluating...\n"
     ]
    },
    {
     "name": "stderr",
     "output_type": "stream",
     "text": [
      "Iteration: 100%|███████████████████████████████████████████████████████████████████| 1029/1029 [02:34<00:00,  6.68it/s]\n",
      "Iteration: 100%|█████████████████████████████████████████████████████████████████████| 129/129 [00:19<00:00,  6.52it/s]\n",
      "Iteration: 100%|█████████████████████████████████████████████████████████████████████| 129/129 [00:17<00:00,  7.47it/s]\n",
      "Iteration:   0%|                                                                              | 0/1029 [00:00<?, ?it/s]"
     ]
    },
    {
     "name": "stdout",
     "output_type": "stream",
     "text": [
      "{'Train': {'rocauc': 0.7688738613450081}, 'Validation': {'rocauc': 0.7422793577307466}, 'Test': {'rocauc': 0.716118503640472}}\n",
      "=====Epoch 4\n",
      "Training...\n"
     ]
    },
    {
     "name": "stderr",
     "output_type": "stream",
     "text": [
      "Iteration: 100%|███████████████████████████████████████████████████████████████████| 1029/1029 [10:11<00:00,  1.68it/s]\n",
      "Iteration:   0%|                                                                      | 1/1029 [00:00<01:59,  8.57it/s]"
     ]
    },
    {
     "name": "stdout",
     "output_type": "stream",
     "text": [
      "Evaluating...\n"
     ]
    },
    {
     "name": "stderr",
     "output_type": "stream",
     "text": [
      "Iteration: 100%|███████████████████████████████████████████████████████████████████| 1029/1029 [02:30<00:00,  6.84it/s]\n",
      "Iteration: 100%|█████████████████████████████████████████████████████████████████████| 129/129 [00:19<00:00,  6.49it/s]\n",
      "Iteration: 100%|█████████████████████████████████████████████████████████████████████| 129/129 [00:17<00:00,  7.32it/s]\n",
      "Iteration:   0%|                                                                              | 0/1029 [00:00<?, ?it/s]"
     ]
    },
    {
     "name": "stdout",
     "output_type": "stream",
     "text": [
      "{'Train': {'rocauc': 0.7536692315152718}, 'Validation': {'rocauc': 0.6886176023907505}, 'Test': {'rocauc': 0.6086058054423609}}\n",
      "=====Epoch 5\n",
      "Training...\n"
     ]
    },
    {
     "name": "stderr",
     "output_type": "stream",
     "text": [
      "Iteration: 100%|███████████████████████████████████████████████████████████████████| 1029/1029 [10:06<00:00,  1.70it/s]\n",
      "Iteration:   0%|                                                                      | 1/1029 [00:00<02:26,  7.01it/s]"
     ]
    },
    {
     "name": "stdout",
     "output_type": "stream",
     "text": [
      "Evaluating...\n"
     ]
    },
    {
     "name": "stderr",
     "output_type": "stream",
     "text": [
      "Iteration: 100%|███████████████████████████████████████████████████████████████████| 1029/1029 [02:39<00:00,  6.44it/s]\n",
      "Iteration: 100%|█████████████████████████████████████████████████████████████████████| 129/129 [00:22<00:00,  5.75it/s]\n",
      "Iteration: 100%|█████████████████████████████████████████████████████████████████████| 129/129 [00:25<00:00,  5.00it/s]\n",
      "Iteration:   0%|                                                                              | 0/1029 [00:00<?, ?it/s]"
     ]
    },
    {
     "name": "stdout",
     "output_type": "stream",
     "text": [
      "{'Train': {'rocauc': 0.7961523708300919}, 'Validation': {'rocauc': 0.7811795757397609}, 'Test': {'rocauc': 0.739230189845304}}\n",
      "=====Epoch 6\n",
      "Training...\n"
     ]
    },
    {
     "name": "stderr",
     "output_type": "stream",
     "text": [
      "Iteration: 100%|███████████████████████████████████████████████████████████████████| 1029/1029 [10:16<00:00,  1.67it/s]\n",
      "Iteration:   0%|                                                                      | 1/1029 [00:00<01:55,  8.87it/s]"
     ]
    },
    {
     "name": "stdout",
     "output_type": "stream",
     "text": [
      "Evaluating...\n"
     ]
    },
    {
     "name": "stderr",
     "output_type": "stream",
     "text": [
      "Iteration: 100%|███████████████████████████████████████████████████████████████████| 1029/1029 [02:41<00:00,  6.38it/s]\n",
      "Iteration: 100%|█████████████████████████████████████████████████████████████████████| 129/129 [00:19<00:00,  6.46it/s]\n",
      "Iteration: 100%|█████████████████████████████████████████████████████████████████████| 129/129 [00:17<00:00,  7.32it/s]\n",
      "Iteration:   0%|                                                                              | 0/1029 [00:00<?, ?it/s]"
     ]
    },
    {
     "name": "stdout",
     "output_type": "stream",
     "text": [
      "{'Train': {'rocauc': 0.7825082463165052}, 'Validation': {'rocauc': 0.8102647952184989}, 'Test': {'rocauc': 0.6870565287085498}}\n",
      "=====Epoch 7\n",
      "Training...\n"
     ]
    },
    {
     "name": "stderr",
     "output_type": "stream",
     "text": [
      "Iteration: 100%|███████████████████████████████████████████████████████████████████| 1029/1029 [10:11<00:00,  1.68it/s]\n",
      "Iteration:   0%|                                                                      | 1/1029 [00:00<02:56,  5.83it/s]"
     ]
    },
    {
     "name": "stdout",
     "output_type": "stream",
     "text": [
      "Evaluating...\n"
     ]
    },
    {
     "name": "stderr",
     "output_type": "stream",
     "text": [
      "Iteration: 100%|███████████████████████████████████████████████████████████████████| 1029/1029 [02:24<00:00,  7.11it/s]\n",
      "Iteration: 100%|█████████████████████████████████████████████████████████████████████| 129/129 [00:22<00:00,  5.79it/s]\n",
      "Iteration: 100%|█████████████████████████████████████████████████████████████████████| 129/129 [00:21<00:00,  6.04it/s]\n",
      "Iteration:   0%|                                                                              | 0/1029 [00:00<?, ?it/s]"
     ]
    },
    {
     "name": "stdout",
     "output_type": "stream",
     "text": [
      "{'Train': {'rocauc': 0.8041526485608237}, 'Validation': {'rocauc': 0.7709741818538114}, 'Test': {'rocauc': 0.7646729369049229}}\n",
      "=====Epoch 8\n",
      "Training...\n"
     ]
    },
    {
     "name": "stderr",
     "output_type": "stream",
     "text": [
      "Iteration: 100%|███████████████████████████████████████████████████████████████████| 1029/1029 [10:51<00:00,  1.58it/s]\n",
      "Iteration:   0%|                                                                      | 1/1029 [00:00<02:33,  6.71it/s]"
     ]
    },
    {
     "name": "stdout",
     "output_type": "stream",
     "text": [
      "Evaluating...\n"
     ]
    },
    {
     "name": "stderr",
     "output_type": "stream",
     "text": [
      "Iteration: 100%|███████████████████████████████████████████████████████████████████| 1029/1029 [02:48<00:00,  6.10it/s]\n",
      "Iteration: 100%|█████████████████████████████████████████████████████████████████████| 129/129 [00:26<00:00,  4.88it/s]\n",
      "Iteration: 100%|█████████████████████████████████████████████████████████████████████| 129/129 [00:24<00:00,  5.26it/s]\n",
      "Iteration:   0%|                                                                              | 0/1029 [00:00<?, ?it/s]"
     ]
    },
    {
     "name": "stdout",
     "output_type": "stream",
     "text": [
      "{'Train': {'rocauc': 0.787745928563842}, 'Validation': {'rocauc': 0.7575139623750735}, 'Test': {'rocauc': 0.6928754900635393}}\n",
      "=====Epoch 9\n",
      "Training...\n"
     ]
    },
    {
     "name": "stderr",
     "output_type": "stream",
     "text": [
      "Iteration: 100%|███████████████████████████████████████████████████████████████████| 1029/1029 [10:25<00:00,  1.64it/s]\n",
      "Iteration:   0%|                                                                      | 1/1029 [00:00<02:34,  6.65it/s]"
     ]
    },
    {
     "name": "stdout",
     "output_type": "stream",
     "text": [
      "Evaluating...\n"
     ]
    },
    {
     "name": "stderr",
     "output_type": "stream",
     "text": [
      "Iteration: 100%|███████████████████████████████████████████████████████████████████| 1029/1029 [02:30<00:00,  6.85it/s]\n",
      "Iteration: 100%|█████████████████████████████████████████████████████████████████████| 129/129 [00:20<00:00,  6.31it/s]\n",
      "Iteration: 100%|█████████████████████████████████████████████████████████████████████| 129/129 [00:17<00:00,  7.26it/s]\n",
      "Iteration:   0%|                                                                              | 0/1029 [00:00<?, ?it/s]"
     ]
    },
    {
     "name": "stdout",
     "output_type": "stream",
     "text": [
      "{'Train': {'rocauc': 0.8207905801609424}, 'Validation': {'rocauc': 0.7962993582206546}, 'Test': {'rocauc': 0.7256860889549817}}\n",
      "=====Epoch 10\n",
      "Training...\n"
     ]
    },
    {
     "name": "stderr",
     "output_type": "stream",
     "text": [
      "Iteration: 100%|███████████████████████████████████████████████████████████████████| 1029/1029 [09:51<00:00,  1.74it/s]\n",
      "Iteration:   0%|                                                                      | 1/1029 [00:00<01:55,  8.92it/s]"
     ]
    },
    {
     "name": "stdout",
     "output_type": "stream",
     "text": [
      "Evaluating...\n"
     ]
    },
    {
     "name": "stderr",
     "output_type": "stream",
     "text": [
      "Iteration: 100%|███████████████████████████████████████████████████████████████████| 1029/1029 [02:33<00:00,  6.69it/s]\n",
      "Iteration: 100%|█████████████████████████████████████████████████████████████████████| 129/129 [00:20<00:00,  6.42it/s]\n",
      "Iteration: 100%|█████████████████████████████████████████████████████████████████████| 129/129 [00:17<00:00,  7.31it/s]\n",
      "Iteration:   0%|                                                                              | 0/1029 [00:00<?, ?it/s]"
     ]
    },
    {
     "name": "stdout",
     "output_type": "stream",
     "text": [
      "{'Train': {'rocauc': 0.8147159636836055}, 'Validation': {'rocauc': 0.8037673917303547}, 'Test': {'rocauc': 0.7623418760501361}}\n",
      "=====Epoch 11\n",
      "Training...\n"
     ]
    },
    {
     "name": "stderr",
     "output_type": "stream",
     "text": [
      "Iteration: 100%|███████████████████████████████████████████████████████████████████| 1029/1029 [10:11<00:00,  1.68it/s]\n",
      "Iteration:   0%|                                                                      | 1/1029 [00:00<02:51,  6.00it/s]"
     ]
    },
    {
     "name": "stdout",
     "output_type": "stream",
     "text": [
      "Evaluating...\n"
     ]
    },
    {
     "name": "stderr",
     "output_type": "stream",
     "text": [
      "Iteration: 100%|███████████████████████████████████████████████████████████████████| 1029/1029 [02:21<00:00,  7.30it/s]\n",
      "Iteration: 100%|█████████████████████████████████████████████████████████████████████| 129/129 [00:24<00:00,  5.22it/s]\n",
      "Iteration: 100%|█████████████████████████████████████████████████████████████████████| 129/129 [00:21<00:00,  5.87it/s]\n",
      "Iteration:   0%|                                                                              | 0/1029 [00:00<?, ?it/s]"
     ]
    },
    {
     "name": "stdout",
     "output_type": "stream",
     "text": [
      "{'Train': {'rocauc': 0.8224179807530245}, 'Validation': {'rocauc': 0.8128245639819714}, 'Test': {'rocauc': 0.7683674848876958}}\n",
      "=====Epoch 12\n",
      "Training...\n"
     ]
    },
    {
     "name": "stderr",
     "output_type": "stream",
     "text": [
      "Iteration: 100%|███████████████████████████████████████████████████████████████████| 1029/1029 [10:07<00:00,  1.69it/s]\n",
      "Iteration:   0%|                                                                      | 1/1029 [00:00<02:20,  7.32it/s]"
     ]
    },
    {
     "name": "stdout",
     "output_type": "stream",
     "text": [
      "Evaluating...\n"
     ]
    },
    {
     "name": "stderr",
     "output_type": "stream",
     "text": [
      "Iteration: 100%|███████████████████████████████████████████████████████████████████| 1029/1029 [02:30<00:00,  6.86it/s]\n",
      "Iteration: 100%|█████████████████████████████████████████████████████████████████████| 129/129 [00:20<00:00,  6.40it/s]\n",
      "Iteration: 100%|█████████████████████████████████████████████████████████████████████| 129/129 [00:17<00:00,  7.53it/s]\n",
      "Iteration:   0%|                                                                              | 0/1029 [00:00<?, ?it/s]"
     ]
    },
    {
     "name": "stdout",
     "output_type": "stream",
     "text": [
      "{'Train': {'rocauc': 0.8278678824964231}, 'Validation': {'rocauc': 0.8125336811679404}, 'Test': {'rocauc': 0.7372525541242587}}\n",
      "=====Epoch 13\n",
      "Training...\n"
     ]
    },
    {
     "name": "stderr",
     "output_type": "stream",
     "text": [
      "Iteration: 100%|███████████████████████████████████████████████████████████████████| 1029/1029 [10:00<00:00,  1.71it/s]\n",
      "Iteration:   0%|                                                                      | 1/1029 [00:00<02:37,  6.55it/s]"
     ]
    },
    {
     "name": "stdout",
     "output_type": "stream",
     "text": [
      "Evaluating...\n"
     ]
    },
    {
     "name": "stderr",
     "output_type": "stream",
     "text": [
      "Iteration: 100%|███████████████████████████████████████████████████████████████████| 1029/1029 [02:25<00:00,  7.09it/s]\n",
      "Iteration: 100%|█████████████████████████████████████████████████████████████████████| 129/129 [00:20<00:00,  6.24it/s]\n",
      "Iteration: 100%|█████████████████████████████████████████████████████████████████████| 129/129 [00:21<00:00,  5.98it/s]\n",
      "Iteration:   0%|                                                                              | 0/1029 [00:00<?, ?it/s]"
     ]
    },
    {
     "name": "stdout",
     "output_type": "stream",
     "text": [
      "{'Train': {'rocauc': 0.8290292588146957}, 'Validation': {'rocauc': 0.8212907848324514}, 'Test': {'rocauc': 0.7669441279283107}}\n",
      "=====Epoch 14\n",
      "Training...\n"
     ]
    },
    {
     "name": "stderr",
     "output_type": "stream",
     "text": [
      "Iteration: 100%|███████████████████████████████████████████████████████████████████| 1029/1029 [10:07<00:00,  1.69it/s]\n",
      "Iteration:   0%|                                                                      | 1/1029 [00:00<02:04,  8.24it/s]"
     ]
    },
    {
     "name": "stdout",
     "output_type": "stream",
     "text": [
      "Evaluating...\n"
     ]
    },
    {
     "name": "stderr",
     "output_type": "stream",
     "text": [
      "Iteration: 100%|███████████████████████████████████████████████████████████████████| 1029/1029 [02:29<00:00,  6.86it/s]\n",
      "Iteration: 100%|█████████████████████████████████████████████████████████████████████| 129/129 [00:19<00:00,  6.46it/s]\n",
      "Iteration: 100%|█████████████████████████████████████████████████████████████████████| 129/129 [00:17<00:00,  7.45it/s]\n",
      "Iteration:   0%|                                                                              | 0/1029 [00:00<?, ?it/s]"
     ]
    },
    {
     "name": "stdout",
     "output_type": "stream",
     "text": [
      "{'Train': {'rocauc': 0.8331572227623967}, 'Validation': {'rocauc': 0.8105373064863806}, 'Test': {'rocauc': 0.7554047007474072}}\n",
      "=====Epoch 15\n",
      "Training...\n"
     ]
    },
    {
     "name": "stderr",
     "output_type": "stream",
     "text": [
      "Iteration: 100%|███████████████████████████████████████████████████████████████████| 1029/1029 [10:05<00:00,  1.70it/s]\n",
      "Iteration:   0%|                                                                      | 1/1029 [00:00<03:05,  5.54it/s]"
     ]
    },
    {
     "name": "stdout",
     "output_type": "stream",
     "text": [
      "Evaluating...\n"
     ]
    },
    {
     "name": "stderr",
     "output_type": "stream",
     "text": [
      "Iteration: 100%|███████████████████████████████████████████████████████████████████| 1029/1029 [02:30<00:00,  6.82it/s]\n",
      "Iteration: 100%|█████████████████████████████████████████████████████████████████████| 129/129 [00:22<00:00,  5.84it/s]\n",
      "Iteration: 100%|█████████████████████████████████████████████████████████████████████| 129/129 [00:17<00:00,  7.47it/s]\n",
      "Iteration:   0%|                                                                              | 0/1029 [00:00<?, ?it/s]"
     ]
    },
    {
     "name": "stdout",
     "output_type": "stream",
     "text": [
      "{'Train': {'rocauc': 0.8459930934344003}, 'Validation': {'rocauc': 0.8070222173231432}, 'Test': {'rocauc': 0.7810753394233184}}\n",
      "=====Epoch 16\n",
      "Training...\n"
     ]
    },
    {
     "name": "stderr",
     "output_type": "stream",
     "text": [
      "Iteration: 100%|███████████████████████████████████████████████████████████████████| 1029/1029 [09:54<00:00,  1.73it/s]\n",
      "Iteration:   0%|                                                                      | 1/1029 [00:00<02:13,  7.71it/s]"
     ]
    },
    {
     "name": "stdout",
     "output_type": "stream",
     "text": [
      "Evaluating...\n"
     ]
    },
    {
     "name": "stderr",
     "output_type": "stream",
     "text": [
      "Iteration: 100%|███████████████████████████████████████████████████████████████████| 1029/1029 [02:25<00:00,  7.07it/s]\n",
      "Iteration: 100%|█████████████████████████████████████████████████████████████████████| 129/129 [00:19<00:00,  6.72it/s]\n",
      "Iteration: 100%|█████████████████████████████████████████████████████████████████████| 129/129 [00:16<00:00,  7.77it/s]\n",
      "Iteration:   0%|                                                                              | 0/1029 [00:00<?, ?it/s]"
     ]
    },
    {
     "name": "stdout",
     "output_type": "stream",
     "text": [
      "{'Train': {'rocauc': 0.8320792092353003}, 'Validation': {'rocauc': 0.7943734077993337}, 'Test': {'rocauc': 0.7565016705614245}}\n",
      "=====Epoch 17\n",
      "Training...\n"
     ]
    },
    {
     "name": "stderr",
     "output_type": "stream",
     "text": [
      "Iteration: 100%|███████████████████████████████████████████████████████████████████| 1029/1029 [10:29<00:00,  1.64it/s]\n",
      "Iteration:   0%|                                                                      | 1/1029 [00:00<02:30,  6.83it/s]"
     ]
    },
    {
     "name": "stdout",
     "output_type": "stream",
     "text": [
      "Evaluating...\n"
     ]
    },
    {
     "name": "stderr",
     "output_type": "stream",
     "text": [
      "Iteration: 100%|███████████████████████████████████████████████████████████████████| 1029/1029 [02:21<00:00,  7.27it/s]\n",
      "Iteration: 100%|█████████████████████████████████████████████████████████████████████| 129/129 [00:20<00:00,  6.30it/s]\n",
      "Iteration: 100%|█████████████████████████████████████████████████████████████████████| 129/129 [00:21<00:00,  5.98it/s]\n",
      "Iteration:   0%|                                                                              | 0/1029 [00:00<?, ?it/s]"
     ]
    },
    {
     "name": "stdout",
     "output_type": "stream",
     "text": [
      "{'Train': {'rocauc': 0.8560495166521565}, 'Validation': {'rocauc': 0.8320718204977464}, 'Test': {'rocauc': 0.783939434906043}}\n",
      "=====Epoch 18\n",
      "Training...\n"
     ]
    },
    {
     "name": "stderr",
     "output_type": "stream",
     "text": [
      "Iteration: 100%|███████████████████████████████████████████████████████████████████| 1029/1029 [10:12<00:00,  1.68it/s]\n",
      "Iteration:   0%|                                                                      | 1/1029 [00:00<02:16,  7.54it/s]"
     ]
    },
    {
     "name": "stdout",
     "output_type": "stream",
     "text": [
      "Evaluating...\n"
     ]
    },
    {
     "name": "stderr",
     "output_type": "stream",
     "text": [
      "Iteration: 100%|███████████████████████████████████████████████████████████████████| 1029/1029 [02:40<00:00,  6.41it/s]\n",
      "Iteration: 100%|█████████████████████████████████████████████████████████████████████| 129/129 [00:27<00:00,  4.72it/s]\n",
      "Iteration: 100%|█████████████████████████████████████████████████████████████████████| 129/129 [00:26<00:00,  4.95it/s]\n",
      "Iteration:   0%|                                                                              | 0/1029 [00:00<?, ?it/s]"
     ]
    },
    {
     "name": "stdout",
     "output_type": "stream",
     "text": [
      "{'Train': {'rocauc': 0.8561245111262478}, 'Validation': {'rocauc': 0.8304046026846952}, 'Test': {'rocauc': 0.7671797446841384}}\n",
      "=====Epoch 19\n",
      "Training...\n"
     ]
    },
    {
     "name": "stderr",
     "output_type": "stream",
     "text": [
      "Iteration: 100%|███████████████████████████████████████████████████████████████████| 1029/1029 [11:10<00:00,  1.53it/s]\n",
      "Iteration:   0%|                                                                      | 1/1029 [00:00<01:57,  8.72it/s]"
     ]
    },
    {
     "name": "stdout",
     "output_type": "stream",
     "text": [
      "Evaluating...\n"
     ]
    },
    {
     "name": "stderr",
     "output_type": "stream",
     "text": [
      "Iteration: 100%|███████████████████████████████████████████████████████████████████| 1029/1029 [02:31<00:00,  6.81it/s]\n",
      "Iteration: 100%|█████████████████████████████████████████████████████████████████████| 129/129 [00:22<00:00,  5.77it/s]\n",
      "Iteration: 100%|█████████████████████████████████████████████████████████████████████| 129/129 [00:17<00:00,  7.42it/s]\n",
      "Iteration:   0%|                                                                              | 0/1029 [00:00<?, ?it/s]"
     ]
    },
    {
     "name": "stdout",
     "output_type": "stream",
     "text": [
      "{'Train': {'rocauc': 0.8472283877510597}, 'Validation': {'rocauc': 0.827485057809132}, 'Test': {'rocauc': 0.7548060024334189}}\n",
      "=====Epoch 20\n",
      "Training...\n"
     ]
    },
    {
     "name": "stderr",
     "output_type": "stream",
     "text": [
      "Iteration: 100%|███████████████████████████████████████████████████████████████████| 1029/1029 [09:59<00:00,  1.72it/s]\n",
      "Iteration:   0%|                                                                      | 1/1029 [00:00<02:09,  7.94it/s]"
     ]
    },
    {
     "name": "stdout",
     "output_type": "stream",
     "text": [
      "Evaluating...\n"
     ]
    },
    {
     "name": "stderr",
     "output_type": "stream",
     "text": [
      "Iteration: 100%|███████████████████████████████████████████████████████████████████| 1029/1029 [02:43<00:00,  6.30it/s]\n",
      "Iteration: 100%|█████████████████████████████████████████████████████████████████████| 129/129 [00:19<00:00,  6.54it/s]\n",
      "Iteration: 100%|█████████████████████████████████████████████████████████████████████| 129/129 [00:18<00:00,  6.86it/s]\n",
      "Iteration:   0%|                                                                              | 0/1029 [00:00<?, ?it/s]"
     ]
    },
    {
     "name": "stdout",
     "output_type": "stream",
     "text": [
      "{'Train': {'rocauc': 0.8604462278856007}, 'Validation': {'rocauc': 0.8211040074466001}, 'Test': {'rocauc': 0.7586956101894591}}\n",
      "=====Epoch 21\n",
      "Training...\n"
     ]
    },
    {
     "name": "stderr",
     "output_type": "stream",
     "text": [
      "Iteration: 100%|███████████████████████████████████████████████████████████████████| 1029/1029 [10:45<00:00,  1.59it/s]\n",
      "Iteration:   0%|                                                                      | 1/1029 [00:00<02:36,  6.58it/s]"
     ]
    },
    {
     "name": "stdout",
     "output_type": "stream",
     "text": [
      "Evaluating...\n"
     ]
    },
    {
     "name": "stderr",
     "output_type": "stream",
     "text": [
      "Iteration: 100%|███████████████████████████████████████████████████████████████████| 1029/1029 [02:52<00:00,  5.97it/s]\n",
      "Iteration: 100%|█████████████████████████████████████████████████████████████████████| 129/129 [00:20<00:00,  6.38it/s]\n",
      "Iteration: 100%|█████████████████████████████████████████████████████████████████████| 129/129 [00:18<00:00,  7.06it/s]\n",
      "Iteration:   0%|                                                                              | 0/1029 [00:00<?, ?it/s]"
     ]
    },
    {
     "name": "stdout",
     "output_type": "stream",
     "text": [
      "{'Train': {'rocauc': 0.8615623665939037}, 'Validation': {'rocauc': 0.8145361796982167}, 'Test': {'rocauc': 0.7647791575735337}}\n",
      "=====Epoch 22\n",
      "Training...\n"
     ]
    },
    {
     "name": "stderr",
     "output_type": "stream",
     "text": [
      "Iteration: 100%|███████████████████████████████████████████████████████████████████| 1029/1029 [10:18<00:00,  1.66it/s]\n",
      "Iteration:   0%|                                                                      | 1/1029 [00:00<02:21,  7.27it/s]"
     ]
    },
    {
     "name": "stdout",
     "output_type": "stream",
     "text": [
      "Evaluating...\n"
     ]
    },
    {
     "name": "stderr",
     "output_type": "stream",
     "text": [
      "Iteration: 100%|███████████████████████████████████████████████████████████████████| 1029/1029 [02:29<00:00,  6.90it/s]\n",
      "Iteration: 100%|█████████████████████████████████████████████████████████████████████| 129/129 [00:19<00:00,  6.72it/s]\n",
      "Iteration: 100%|█████████████████████████████████████████████████████████████████████| 129/129 [00:16<00:00,  7.66it/s]\n",
      "Iteration:   0%|                                                                              | 0/1029 [00:00<?, ?it/s]"
     ]
    },
    {
     "name": "stdout",
     "output_type": "stream",
     "text": [
      "{'Train': {'rocauc': 0.8666576592989252}, 'Validation': {'rocauc': 0.8292701597099744}, 'Test': {'rocauc': 0.7802719249116438}}\n",
      "=====Epoch 23\n",
      "Training...\n"
     ]
    },
    {
     "name": "stderr",
     "output_type": "stream",
     "text": [
      "Iteration: 100%|███████████████████████████████████████████████████████████████████| 1029/1029 [10:26<00:00,  1.64it/s]\n",
      "Iteration:   0%|                                                                      | 1/1029 [00:00<02:02,  8.41it/s]"
     ]
    },
    {
     "name": "stdout",
     "output_type": "stream",
     "text": [
      "Evaluating...\n"
     ]
    },
    {
     "name": "stderr",
     "output_type": "stream",
     "text": [
      "Iteration: 100%|███████████████████████████████████████████████████████████████████| 1029/1029 [02:32<00:00,  6.77it/s]\n",
      "Iteration: 100%|█████████████████████████████████████████████████████████████████████| 129/129 [00:22<00:00,  5.84it/s]\n",
      "Iteration: 100%|█████████████████████████████████████████████████████████████████████| 129/129 [00:18<00:00,  6.93it/s]\n",
      "Iteration:   0%|                                                                              | 0/1029 [00:00<?, ?it/s]"
     ]
    },
    {
     "name": "stdout",
     "output_type": "stream",
     "text": [
      "{'Train': {'rocauc': 0.8789120280474207}, 'Validation': {'rocauc': 0.8413218939839311}, 'Test': {'rocauc': 0.770101778713378}}\n",
      "=====Epoch 24\n",
      "Training...\n"
     ]
    },
    {
     "name": "stderr",
     "output_type": "stream",
     "text": [
      "Iteration: 100%|███████████████████████████████████████████████████████████████████| 1029/1029 [10:27<00:00,  1.64it/s]\n",
      "Iteration:   0%|                                                                      | 1/1029 [00:00<03:19,  5.14it/s]"
     ]
    },
    {
     "name": "stdout",
     "output_type": "stream",
     "text": [
      "Evaluating...\n"
     ]
    },
    {
     "name": "stderr",
     "output_type": "stream",
     "text": [
      "Iteration: 100%|███████████████████████████████████████████████████████████████████| 1029/1029 [02:30<00:00,  6.81it/s]\n",
      "Iteration: 100%|█████████████████████████████████████████████████████████████████████| 129/129 [00:25<00:00,  5.00it/s]\n",
      "Iteration: 100%|█████████████████████████████████████████████████████████████████████| 129/129 [00:23<00:00,  5.60it/s]\n",
      "Iteration:   0%|                                                                              | 0/1029 [00:00<?, ?it/s]"
     ]
    },
    {
     "name": "stdout",
     "output_type": "stream",
     "text": [
      "{'Train': {'rocauc': 0.8797125671464536}, 'Validation': {'rocauc': 0.8350878159905937}, 'Test': {'rocauc': 0.7681183491376814}}\n",
      "=====Epoch 25\n",
      "Training...\n"
     ]
    },
    {
     "name": "stderr",
     "output_type": "stream",
     "text": [
      "Iteration: 100%|███████████████████████████████████████████████████████████████████| 1029/1029 [10:39<00:00,  1.61it/s]\n",
      "Iteration:   0%|                                                                      | 1/1029 [00:00<01:51,  9.19it/s]"
     ]
    },
    {
     "name": "stdout",
     "output_type": "stream",
     "text": [
      "Evaluating...\n"
     ]
    },
    {
     "name": "stderr",
     "output_type": "stream",
     "text": [
      "Iteration: 100%|███████████████████████████████████████████████████████████████████| 1029/1029 [02:39<00:00,  6.45it/s]\n",
      "Iteration: 100%|█████████████████████████████████████████████████████████████████████| 129/129 [00:22<00:00,  5.76it/s]\n",
      "Iteration: 100%|█████████████████████████████████████████████████████████████████████| 129/129 [00:18<00:00,  7.05it/s]\n",
      "Iteration:   0%|                                                                              | 0/1029 [00:00<?, ?it/s]"
     ]
    },
    {
     "name": "stdout",
     "output_type": "stream",
     "text": [
      "{'Train': {'rocauc': 0.8844142157536171}, 'Validation': {'rocauc': 0.8463801930237116}, 'Test': {'rocauc': 0.7795766623534638}}\n",
      "=====Epoch 26\n",
      "Training...\n"
     ]
    },
    {
     "name": "stderr",
     "output_type": "stream",
     "text": [
      "Iteration: 100%|███████████████████████████████████████████████████████████████████| 1029/1029 [10:12<00:00,  1.68it/s]\n",
      "Iteration:   0%|                                                                      | 1/1029 [00:00<02:18,  7.42it/s]"
     ]
    },
    {
     "name": "stdout",
     "output_type": "stream",
     "text": [
      "Evaluating...\n"
     ]
    },
    {
     "name": "stderr",
     "output_type": "stream",
     "text": [
      "Iteration: 100%|███████████████████████████████████████████████████████████████████| 1029/1029 [02:32<00:00,  6.76it/s]\n",
      "Iteration: 100%|█████████████████████████████████████████████████████████████████████| 129/129 [00:20<00:00,  6.23it/s]\n",
      "Iteration: 100%|█████████████████████████████████████████████████████████████████████| 129/129 [00:16<00:00,  7.72it/s]\n",
      "Iteration:   0%|                                                                              | 0/1029 [00:00<?, ?it/s]"
     ]
    },
    {
     "name": "stdout",
     "output_type": "stream",
     "text": [
      "{'Train': {'rocauc': 0.8800028695766642}, 'Validation': {'rocauc': 0.8233422741524593}, 'Test': {'rocauc': 0.7564244191660713}}\n",
      "=====Epoch 27\n",
      "Training...\n"
     ]
    },
    {
     "name": "stderr",
     "output_type": "stream",
     "text": [
      "Iteration: 100%|███████████████████████████████████████████████████████████████████| 1029/1029 [10:19<00:00,  1.66it/s]\n",
      "Iteration:   0%|                                                                      | 1/1029 [00:00<02:08,  8.00it/s]"
     ]
    },
    {
     "name": "stdout",
     "output_type": "stream",
     "text": [
      "Evaluating...\n"
     ]
    },
    {
     "name": "stderr",
     "output_type": "stream",
     "text": [
      "Iteration: 100%|███████████████████████████████████████████████████████████████████| 1029/1029 [02:36<00:00,  6.55it/s]\n",
      "Iteration: 100%|█████████████████████████████████████████████████████████████████████| 129/129 [00:19<00:00,  6.53it/s]\n",
      "Iteration: 100%|█████████████████████████████████████████████████████████████████████| 129/129 [00:17<00:00,  7.31it/s]\n",
      "Iteration:   0%|                                                                              | 0/1029 [00:00<?, ?it/s]"
     ]
    },
    {
     "name": "stdout",
     "output_type": "stream",
     "text": [
      "{'Train': {'rocauc': 0.8844212000305104}, 'Validation': {'rocauc': 0.843140677052714}, 'Test': {'rocauc': 0.7578226694219665}}\n",
      "=====Epoch 28\n",
      "Training...\n"
     ]
    },
    {
     "name": "stderr",
     "output_type": "stream",
     "text": [
      "Iteration: 100%|███████████████████████████████████████████████████████████████████| 1029/1029 [10:09<00:00,  1.69it/s]\n",
      "Iteration:   0%|                                                                              | 0/1029 [00:00<?, ?it/s]"
     ]
    },
    {
     "name": "stdout",
     "output_type": "stream",
     "text": [
      "Evaluating...\n"
     ]
    },
    {
     "name": "stderr",
     "output_type": "stream",
     "text": [
      "Iteration: 100%|███████████████████████████████████████████████████████████████████| 1029/1029 [02:29<00:00,  6.90it/s]\n",
      "Iteration: 100%|█████████████████████████████████████████████████████████████████████| 129/129 [00:19<00:00,  6.59it/s]\n",
      "Iteration: 100%|█████████████████████████████████████████████████████████████████████| 129/129 [00:22<00:00,  5.82it/s]\n",
      "Iteration:   0%|                                                                              | 0/1029 [00:00<?, ?it/s]"
     ]
    },
    {
     "name": "stdout",
     "output_type": "stream",
     "text": [
      "{'Train': {'rocauc': 0.8932846959396975}, 'Validation': {'rocauc': 0.8482295953360767}, 'Test': {'rocauc': 0.7545452789741015}}\n",
      "=====Epoch 29\n",
      "Training...\n"
     ]
    },
    {
     "name": "stderr",
     "output_type": "stream",
     "text": [
      "Iteration: 100%|███████████████████████████████████████████████████████████████████| 1029/1029 [10:05<00:00,  1.70it/s]\n",
      "Iteration:   0%|                                                                      | 1/1029 [00:00<02:24,  7.12it/s]"
     ]
    },
    {
     "name": "stdout",
     "output_type": "stream",
     "text": [
      "Evaluating...\n"
     ]
    },
    {
     "name": "stderr",
     "output_type": "stream",
     "text": [
      "Iteration: 100%|███████████████████████████████████████████████████████████████████| 1029/1029 [02:30<00:00,  6.85it/s]\n",
      "Iteration: 100%|█████████████████████████████████████████████████████████████████████| 129/129 [00:20<00:00,  6.23it/s]\n",
      "Iteration: 100%|█████████████████████████████████████████████████████████████████████| 129/129 [00:17<00:00,  7.31it/s]\n",
      "Iteration:   0%|                                                                              | 0/1029 [00:00<?, ?it/s]"
     ]
    },
    {
     "name": "stdout",
     "output_type": "stream",
     "text": [
      "{'Train': {'rocauc': 0.8840917600193233}, 'Validation': {'rocauc': 0.7990979570840682}, 'Test': {'rocauc': 0.7462465478282702}}\n",
      "=====Epoch 30\n",
      "Training...\n"
     ]
    },
    {
     "name": "stderr",
     "output_type": "stream",
     "text": [
      "Iteration: 100%|███████████████████████████████████████████████████████████████████| 1029/1029 [10:03<00:00,  1.71it/s]\n",
      "Iteration:   0%|                                                                      | 1/1029 [00:00<01:49,  9.37it/s]"
     ]
    },
    {
     "name": "stdout",
     "output_type": "stream",
     "text": [
      "Evaluating...\n"
     ]
    },
    {
     "name": "stderr",
     "output_type": "stream",
     "text": [
      "Iteration: 100%|███████████████████████████████████████████████████████████████████| 1029/1029 [02:35<00:00,  6.61it/s]\n",
      "Iteration: 100%|█████████████████████████████████████████████████████████████████████| 129/129 [00:19<00:00,  6.49it/s]\n",
      "Iteration: 100%|█████████████████████████████████████████████████████████████████████| 129/129 [00:17<00:00,  7.33it/s]\n",
      "Iteration:   0%|                                                                              | 0/1029 [00:00<?, ?it/s]"
     ]
    },
    {
     "name": "stdout",
     "output_type": "stream",
     "text": [
      "{'Train': {'rocauc': 0.8948608101535649}, 'Validation': {'rocauc': 0.8524029982363316}, 'Test': {'rocauc': 0.7699646574866257}}\n",
      "=====Epoch 31\n",
      "Training...\n"
     ]
    },
    {
     "name": "stderr",
     "output_type": "stream",
     "text": [
      "Iteration: 100%|███████████████████████████████████████████████████████████████████| 1029/1029 [10:04<00:00,  1.70it/s]\n",
      "Iteration:   0%|                                                                      | 1/1029 [00:00<02:36,  6.55it/s]"
     ]
    },
    {
     "name": "stdout",
     "output_type": "stream",
     "text": [
      "Evaluating...\n"
     ]
    },
    {
     "name": "stderr",
     "output_type": "stream",
     "text": [
      "Iteration: 100%|███████████████████████████████████████████████████████████████████| 1029/1029 [02:29<00:00,  6.86it/s]\n",
      "Iteration: 100%|█████████████████████████████████████████████████████████████████████| 129/129 [00:19<00:00,  6.64it/s]\n",
      "Iteration: 100%|█████████████████████████████████████████████████████████████████████| 129/129 [00:17<00:00,  7.18it/s]\n",
      "Iteration:   0%|                                                                              | 0/1029 [00:00<?, ?it/s]"
     ]
    },
    {
     "name": "stdout",
     "output_type": "stream",
     "text": [
      "{'Train': {'rocauc': 0.8985254922774659}, 'Validation': {'rocauc': 0.843971989515971}, 'Test': {'rocauc': 0.7727341200100426}}\n",
      "=====Epoch 32\n",
      "Training...\n"
     ]
    },
    {
     "name": "stderr",
     "output_type": "stream",
     "text": [
      "Iteration: 100%|███████████████████████████████████████████████████████████████████| 1029/1029 [10:05<00:00,  1.70it/s]\n",
      "Iteration:   0%|                                                                              | 0/1029 [00:00<?, ?it/s]"
     ]
    },
    {
     "name": "stdout",
     "output_type": "stream",
     "text": [
      "Evaluating...\n"
     ]
    },
    {
     "name": "stderr",
     "output_type": "stream",
     "text": [
      "Iteration: 100%|███████████████████████████████████████████████████████████████████| 1029/1029 [02:30<00:00,  6.82it/s]\n",
      "Iteration: 100%|█████████████████████████████████████████████████████████████████████| 129/129 [00:23<00:00,  5.43it/s]\n",
      "Iteration: 100%|█████████████████████████████████████████████████████████████████████| 129/129 [00:18<00:00,  7.08it/s]\n",
      "Iteration:   0%|                                                                              | 0/1029 [00:00<?, ?it/s]"
     ]
    },
    {
     "name": "stdout",
     "output_type": "stream",
     "text": [
      "{'Train': {'rocauc': 0.892697170878318}, 'Validation': {'rocauc': 0.8406941994904958}, 'Test': {'rocauc': 0.7601460051372178}}\n",
      "=====Epoch 33\n",
      "Training...\n"
     ]
    },
    {
     "name": "stderr",
     "output_type": "stream",
     "text": [
      "Iteration: 100%|███████████████████████████████████████████████████████████████████| 1029/1029 [10:44<00:00,  1.60it/s]\n",
      "Iteration:   0%|                                                                      | 1/1029 [00:00<02:35,  6.62it/s]"
     ]
    },
    {
     "name": "stdout",
     "output_type": "stream",
     "text": [
      "Evaluating...\n"
     ]
    },
    {
     "name": "stderr",
     "output_type": "stream",
     "text": [
      "Iteration: 100%|███████████████████████████████████████████████████████████████████| 1029/1029 [02:18<00:00,  7.41it/s]\n",
      "Iteration: 100%|█████████████████████████████████████████████████████████████████████| 129/129 [00:26<00:00,  4.93it/s]\n",
      "Iteration: 100%|█████████████████████████████████████████████████████████████████████| 129/129 [00:21<00:00,  5.94it/s]\n",
      "Iteration:   0%|                                                                              | 0/1029 [00:00<?, ?it/s]"
     ]
    },
    {
     "name": "stdout",
     "output_type": "stream",
     "text": [
      "{'Train': {'rocauc': 0.9053632275079116}, 'Validation': {'rocauc': 0.8334190672153635}, 'Test': {'rocauc': 0.7767878869812085}}\n",
      "=====Epoch 34\n",
      "Training...\n"
     ]
    },
    {
     "name": "stderr",
     "output_type": "stream",
     "text": [
      "Iteration: 100%|███████████████████████████████████████████████████████████████████| 1029/1029 [10:14<00:00,  1.68it/s]\n",
      "Iteration:   0%|                                                                      | 1/1029 [00:00<01:57,  8.72it/s]"
     ]
    },
    {
     "name": "stdout",
     "output_type": "stream",
     "text": [
      "Evaluating...\n"
     ]
    },
    {
     "name": "stderr",
     "output_type": "stream",
     "text": [
      "Iteration: 100%|███████████████████████████████████████████████████████████████████| 1029/1029 [02:38<00:00,  6.50it/s]\n",
      "Iteration: 100%|█████████████████████████████████████████████████████████████████████| 129/129 [00:19<00:00,  6.49it/s]\n",
      "Iteration: 100%|█████████████████████████████████████████████████████████████████████| 129/129 [00:17<00:00,  7.33it/s]\n",
      "Iteration:   0%|                                                                              | 0/1029 [00:00<?, ?it/s]"
     ]
    },
    {
     "name": "stdout",
     "output_type": "stream",
     "text": [
      "{'Train': {'rocauc': 0.9013427573484333}, 'Validation': {'rocauc': 0.8334098814422888}, 'Test': {'rocauc': 0.7535371482647404}}\n",
      "=====Epoch 35\n",
      "Training...\n"
     ]
    },
    {
     "name": "stderr",
     "output_type": "stream",
     "text": [
      "Iteration: 100%|███████████████████████████████████████████████████████████████████| 1029/1029 [10:20<00:00,  1.66it/s]\n",
      "Iteration:   0%|                                                                      | 1/1029 [00:00<02:14,  7.63it/s]"
     ]
    },
    {
     "name": "stdout",
     "output_type": "stream",
     "text": [
      "Evaluating...\n"
     ]
    },
    {
     "name": "stderr",
     "output_type": "stream",
     "text": [
      "Iteration: 100%|███████████████████████████████████████████████████████████████████| 1029/1029 [02:38<00:00,  6.50it/s]\n",
      "Iteration: 100%|█████████████████████████████████████████████████████████████████████| 129/129 [00:20<00:00,  6.29it/s]\n",
      "Iteration: 100%|█████████████████████████████████████████████████████████████████████| 129/129 [00:18<00:00,  7.08it/s]\n",
      "Iteration:   0%|                                                                              | 0/1029 [00:00<?, ?it/s]"
     ]
    },
    {
     "name": "stdout",
     "output_type": "stream",
     "text": [
      "{'Train': {'rocauc': 0.8935673477032929}, 'Validation': {'rocauc': 0.8473202038016853}, 'Test': {'rocauc': 0.7655922285096275}}\n",
      "=====Epoch 36\n",
      "Training...\n"
     ]
    },
    {
     "name": "stderr",
     "output_type": "stream",
     "text": [
      "Iteration: 100%|███████████████████████████████████████████████████████████████████| 1029/1029 [10:28<00:00,  1.64it/s]\n",
      "Iteration:   0%|                                                                      | 1/1029 [00:00<02:51,  5.98it/s]"
     ]
    },
    {
     "name": "stdout",
     "output_type": "stream",
     "text": [
      "Evaluating...\n"
     ]
    },
    {
     "name": "stderr",
     "output_type": "stream",
     "text": [
      "Iteration: 100%|███████████████████████████████████████████████████████████████████| 1029/1029 [02:26<00:00,  7.04it/s]\n",
      "Iteration: 100%|█████████████████████████████████████████████████████████████████████| 129/129 [00:25<00:00,  4.98it/s]\n",
      "Iteration: 100%|█████████████████████████████████████████████████████████████████████| 129/129 [00:23<00:00,  5.57it/s]\n",
      "Iteration:   0%|                                                                              | 0/1029 [00:00<?, ?it/s]"
     ]
    },
    {
     "name": "stdout",
     "output_type": "stream",
     "text": [
      "{'Train': {'rocauc': 0.9152129417599987}, 'Validation': {'rocauc': 0.8454769253380364}, 'Test': {'rocauc': 0.7551188705845999}}\n",
      "=====Epoch 37\n",
      "Training...\n"
     ]
    },
    {
     "name": "stderr",
     "output_type": "stream",
     "text": [
      "Iteration: 100%|███████████████████████████████████████████████████████████████████| 1029/1029 [10:11<00:00,  1.68it/s]\n",
      "Iteration:   0%|                                                                      | 1/1029 [00:00<02:10,  7.90it/s]"
     ]
    },
    {
     "name": "stdout",
     "output_type": "stream",
     "text": [
      "Evaluating...\n"
     ]
    },
    {
     "name": "stderr",
     "output_type": "stream",
     "text": [
      "Iteration: 100%|███████████████████████████████████████████████████████████████████| 1029/1029 [02:33<00:00,  6.72it/s]\n",
      "Iteration: 100%|█████████████████████████████████████████████████████████████████████| 129/129 [00:22<00:00,  5.74it/s]\n",
      "Iteration: 100%|█████████████████████████████████████████████████████████████████████| 129/129 [00:17<00:00,  7.29it/s]\n",
      "Iteration:   0%|                                                                              | 0/1029 [00:00<?, ?it/s]"
     ]
    },
    {
     "name": "stdout",
     "output_type": "stream",
     "text": [
      "{'Train': {'rocauc': 0.9093490454018494}, 'Validation': {'rocauc': 0.8326290907309426}, 'Test': {'rocauc': 0.7488730952702833}}\n",
      "=====Epoch 38\n",
      "Training...\n"
     ]
    },
    {
     "name": "stderr",
     "output_type": "stream",
     "text": [
      "Iteration: 100%|███████████████████████████████████████████████████████████████████| 1029/1029 [10:20<00:00,  1.66it/s]\n",
      "Iteration:   0%|                                                                              | 0/1029 [00:00<?, ?it/s]"
     ]
    },
    {
     "name": "stdout",
     "output_type": "stream",
     "text": [
      "Evaluating...\n"
     ]
    },
    {
     "name": "stderr",
     "output_type": "stream",
     "text": [
      "Iteration: 100%|███████████████████████████████████████████████████████████████████| 1029/1029 [02:28<00:00,  6.95it/s]\n",
      "Iteration: 100%|█████████████████████████████████████████████████████████████████████| 129/129 [00:26<00:00,  4.84it/s]\n",
      "Iteration: 100%|█████████████████████████████████████████████████████████████████████| 129/129 [00:22<00:00,  5.73it/s]\n",
      "Iteration:   0%|                                                                              | 0/1029 [00:00<?, ?it/s]"
     ]
    },
    {
     "name": "stdout",
     "output_type": "stream",
     "text": [
      "{'Train': {'rocauc': 0.9177429287848783}, 'Validation': {'rocauc': 0.8363432049774641}, 'Test': {'rocauc': 0.7706425384808513}}\n",
      "=====Epoch 39\n",
      "Training...\n"
     ]
    },
    {
     "name": "stderr",
     "output_type": "stream",
     "text": [
      "Iteration: 100%|███████████████████████████████████████████████████████████████████| 1029/1029 [10:09<00:00,  1.69it/s]\n",
      "Iteration:   0%|                                                                      | 1/1029 [00:00<02:35,  6.60it/s]"
     ]
    },
    {
     "name": "stdout",
     "output_type": "stream",
     "text": [
      "Evaluating...\n"
     ]
    },
    {
     "name": "stderr",
     "output_type": "stream",
     "text": [
      "Iteration: 100%|███████████████████████████████████████████████████████████████████| 1029/1029 [02:45<00:00,  6.20it/s]\n",
      "Iteration: 100%|█████████████████████████████████████████████████████████████████████| 129/129 [00:22<00:00,  5.73it/s]\n",
      "Iteration: 100%|█████████████████████████████████████████████████████████████████████| 129/129 [00:20<00:00,  6.38it/s]\n",
      "Iteration:   0%|                                                                              | 0/1029 [00:00<?, ?it/s]"
     ]
    },
    {
     "name": "stdout",
     "output_type": "stream",
     "text": [
      "{'Train': {'rocauc': 0.9227530517573619}, 'Validation': {'rocauc': 0.8160763276504017}, 'Test': {'rocauc': 0.7761138685567508}}\n",
      "=====Epoch 40\n",
      "Training...\n"
     ]
    },
    {
     "name": "stderr",
     "output_type": "stream",
     "text": [
      "Iteration: 100%|███████████████████████████████████████████████████████████████████| 1029/1029 [10:40<00:00,  1.61it/s]\n",
      "Iteration:   0%|                                                                      | 1/1029 [00:00<02:38,  6.48it/s]"
     ]
    },
    {
     "name": "stdout",
     "output_type": "stream",
     "text": [
      "Evaluating...\n"
     ]
    },
    {
     "name": "stderr",
     "output_type": "stream",
     "text": [
      "Iteration: 100%|███████████████████████████████████████████████████████████████████| 1029/1029 [02:25<00:00,  7.09it/s]\n",
      "Iteration: 100%|█████████████████████████████████████████████████████████████████████| 129/129 [00:22<00:00,  5.80it/s]\n",
      "Iteration: 100%|█████████████████████████████████████████████████████████████████████| 129/129 [00:17<00:00,  7.40it/s]\n",
      "Iteration:   0%|                                                                              | 0/1029 [00:00<?, ?it/s]"
     ]
    },
    {
     "name": "stdout",
     "output_type": "stream",
     "text": [
      "{'Train': {'rocauc': 0.9213153415626654}, 'Validation': {'rocauc': 0.8490226337448559}, 'Test': {'rocauc': 0.7941424129473339}}\n",
      "=====Epoch 41\n",
      "Training...\n"
     ]
    },
    {
     "name": "stderr",
     "output_type": "stream",
     "text": [
      "Iteration: 100%|███████████████████████████████████████████████████████████████████| 1029/1029 [09:47<00:00,  1.75it/s]\n",
      "Iteration:   0%|                                                                      | 1/1029 [00:00<02:54,  5.90it/s]"
     ]
    },
    {
     "name": "stdout",
     "output_type": "stream",
     "text": [
      "Evaluating...\n"
     ]
    },
    {
     "name": "stderr",
     "output_type": "stream",
     "text": [
      "Iteration: 100%|███████████████████████████████████████████████████████████████████| 1029/1029 [02:25<00:00,  7.09it/s]\n",
      "Iteration: 100%|█████████████████████████████████████████████████████████████████████| 129/129 [00:24<00:00,  5.32it/s]\n",
      "Iteration: 100%|█████████████████████████████████████████████████████████████████████| 129/129 [00:17<00:00,  7.47it/s]\n",
      "Iteration:   0%|                                                                              | 0/1029 [00:00<?, ?it/s]"
     ]
    },
    {
     "name": "stdout",
     "output_type": "stream",
     "text": [
      "{'Train': {'rocauc': 0.9255339473277362}, 'Validation': {'rocauc': 0.834089628649814}, 'Test': {'rocauc': 0.7637130883176577}}\n",
      "=====Epoch 42\n",
      "Training...\n"
     ]
    },
    {
     "name": "stderr",
     "output_type": "stream",
     "text": [
      "Iteration: 100%|███████████████████████████████████████████████████████████████████| 1029/1029 [10:21<00:00,  1.65it/s]\n",
      "Iteration:   0%|                                                                              | 0/1029 [00:00<?, ?it/s]"
     ]
    },
    {
     "name": "stdout",
     "output_type": "stream",
     "text": [
      "Evaluating...\n"
     ]
    },
    {
     "name": "stderr",
     "output_type": "stream",
     "text": [
      "Iteration: 100%|███████████████████████████████████████████████████████████████████| 1029/1029 [02:51<00:00,  5.99it/s]\n",
      "Iteration: 100%|█████████████████████████████████████████████████████████████████████| 129/129 [00:19<00:00,  6.46it/s]\n",
      "Iteration: 100%|█████████████████████████████████████████████████████████████████████| 129/129 [00:17<00:00,  7.48it/s]\n",
      "Iteration:   0%|                                                                              | 0/1029 [00:00<?, ?it/s]"
     ]
    },
    {
     "name": "stdout",
     "output_type": "stream",
     "text": [
      "{'Train': {'rocauc': 0.9246212753428011}, 'Validation': {'rocauc': 0.8521151773466588}, 'Test': {'rocauc': 0.7466521176538752}}\n",
      "=====Epoch 43\n",
      "Training...\n"
     ]
    },
    {
     "name": "stderr",
     "output_type": "stream",
     "text": [
      "Iteration: 100%|███████████████████████████████████████████████████████████████████| 1029/1029 [10:05<00:00,  1.70it/s]\n",
      "Iteration:   0%|                                                                      | 1/1029 [00:00<03:26,  4.98it/s]"
     ]
    },
    {
     "name": "stdout",
     "output_type": "stream",
     "text": [
      "Evaluating...\n"
     ]
    },
    {
     "name": "stderr",
     "output_type": "stream",
     "text": [
      "Iteration: 100%|███████████████████████████████████████████████████████████████████| 1029/1029 [02:24<00:00,  7.11it/s]\n",
      "Iteration: 100%|█████████████████████████████████████████████████████████████████████| 129/129 [00:22<00:00,  5.72it/s]\n",
      "Iteration: 100%|█████████████████████████████████████████████████████████████████████| 129/129 [00:17<00:00,  7.38it/s]\n",
      "Iteration:   0%|                                                                              | 0/1029 [00:00<?, ?it/s]"
     ]
    },
    {
     "name": "stdout",
     "output_type": "stream",
     "text": [
      "{'Train': {'rocauc': 0.9098270390602797}, 'Validation': {'rocauc': 0.8309327846364885}, 'Test': {'rocauc': 0.7793342861005428}}\n",
      "=====Epoch 44\n",
      "Training...\n"
     ]
    },
    {
     "name": "stderr",
     "output_type": "stream",
     "text": [
      "Iteration: 100%|███████████████████████████████████████████████████████████████████| 1029/1029 [10:05<00:00,  1.70it/s]\n",
      "Iteration:   0%|                                                                              | 0/1029 [00:00<?, ?it/s]"
     ]
    },
    {
     "name": "stdout",
     "output_type": "stream",
     "text": [
      "Evaluating...\n"
     ]
    },
    {
     "name": "stderr",
     "output_type": "stream",
     "text": [
      "Iteration: 100%|███████████████████████████████████████████████████████████████████| 1029/1029 [02:32<00:00,  6.76it/s]\n",
      "Iteration: 100%|█████████████████████████████████████████████████████████████████████| 129/129 [00:29<00:00,  4.40it/s]\n",
      "Iteration: 100%|█████████████████████████████████████████████████████████████████████| 129/129 [00:27<00:00,  4.75it/s]\n",
      "Iteration:   0%|                                                                              | 0/1029 [00:00<?, ?it/s]"
     ]
    },
    {
     "name": "stdout",
     "output_type": "stream",
     "text": [
      "{'Train': {'rocauc': 0.9317197868127011}, 'Validation': {'rocauc': 0.8501769792279051}, 'Test': {'rocauc': 0.7653952374514764}}\n",
      "=====Epoch 45\n",
      "Training...\n"
     ]
    },
    {
     "name": "stderr",
     "output_type": "stream",
     "text": [
      "Iteration: 100%|███████████████████████████████████████████████████████████████████| 1029/1029 [11:23<00:00,  1.51it/s]\n",
      "Iteration:   0%|                                                                      | 1/1029 [00:00<02:29,  6.87it/s]"
     ]
    },
    {
     "name": "stdout",
     "output_type": "stream",
     "text": [
      "Evaluating...\n"
     ]
    },
    {
     "name": "stderr",
     "output_type": "stream",
     "text": [
      "Iteration: 100%|███████████████████████████████████████████████████████████████████| 1029/1029 [02:52<00:00,  5.98it/s]\n",
      "Iteration: 100%|█████████████████████████████████████████████████████████████████████| 129/129 [00:28<00:00,  4.61it/s]\n",
      "Iteration: 100%|█████████████████████████████████████████████████████████████████████| 129/129 [00:26<00:00,  4.88it/s]\n",
      "Iteration:   0%|                                                                              | 0/1029 [00:00<?, ?it/s]"
     ]
    },
    {
     "name": "stdout",
     "output_type": "stream",
     "text": [
      "{'Train': {'rocauc': 0.9246989738213411}, 'Validation': {'rocauc': 0.8276381540270429}, 'Test': {'rocauc': 0.7530157013461055}}\n",
      "=====Epoch 46\n",
      "Training...\n"
     ]
    },
    {
     "name": "stderr",
     "output_type": "stream",
     "text": [
      "Iteration: 100%|███████████████████████████████████████████████████████████████████| 1029/1029 [11:11<00:00,  1.53it/s]\n",
      "Iteration:   0%|                                                                      | 1/1029 [00:00<02:39,  6.44it/s]"
     ]
    },
    {
     "name": "stdout",
     "output_type": "stream",
     "text": [
      "Evaluating...\n"
     ]
    },
    {
     "name": "stderr",
     "output_type": "stream",
     "text": [
      "Iteration: 100%|███████████████████████████████████████████████████████████████████| 1029/1029 [02:40<00:00,  6.42it/s]\n",
      "Iteration: 100%|█████████████████████████████████████████████████████████████████████| 129/129 [00:22<00:00,  5.83it/s]\n",
      "Iteration: 100%|█████████████████████████████████████████████████████████████████████| 129/129 [00:18<00:00,  6.90it/s]\n",
      "Iteration:   0%|                                                                              | 0/1029 [00:00<?, ?it/s]"
     ]
    },
    {
     "name": "stdout",
     "output_type": "stream",
     "text": [
      "{'Train': {'rocauc': 0.9333184429404313}, 'Validation': {'rocauc': 0.821064202429943}, 'Test': {'rocauc': 0.7611270978582051}}\n",
      "=====Epoch 47\n",
      "Training...\n"
     ]
    },
    {
     "name": "stderr",
     "output_type": "stream",
     "text": [
      "Iteration: 100%|███████████████████████████████████████████████████████████████████| 1029/1029 [10:47<00:00,  1.59it/s]\n",
      "Iteration:   0%|                                                                      | 1/1029 [00:00<02:33,  6.68it/s]"
     ]
    },
    {
     "name": "stdout",
     "output_type": "stream",
     "text": [
      "Evaluating...\n"
     ]
    },
    {
     "name": "stderr",
     "output_type": "stream",
     "text": [
      "Iteration: 100%|███████████████████████████████████████████████████████████████████| 1029/1029 [02:27<00:00,  6.99it/s]\n",
      "Iteration: 100%|█████████████████████████████████████████████████████████████████████| 129/129 [00:28<00:00,  4.54it/s]\n",
      "Iteration: 100%|█████████████████████████████████████████████████████████████████████| 129/129 [00:26<00:00,  4.86it/s]\n",
      "Iteration:   0%|                                                                              | 0/1029 [00:00<?, ?it/s]"
     ]
    },
    {
     "name": "stdout",
     "output_type": "stream",
     "text": [
      "{'Train': {'rocauc': 0.9302968781589437}, 'Validation': {'rocauc': 0.8452472810111699}, 'Test': {'rocauc': 0.7596805654802139}}\n",
      "=====Epoch 48\n",
      "Training...\n"
     ]
    },
    {
     "name": "stderr",
     "output_type": "stream",
     "text": [
      "Iteration: 100%|███████████████████████████████████████████████████████████████████| 1029/1029 [11:07<00:00,  1.54it/s]\n",
      "Iteration:   0%|                                                                      | 1/1029 [00:00<03:05,  5.54it/s]"
     ]
    },
    {
     "name": "stdout",
     "output_type": "stream",
     "text": [
      "Evaluating...\n"
     ]
    },
    {
     "name": "stderr",
     "output_type": "stream",
     "text": [
      "Iteration: 100%|███████████████████████████████████████████████████████████████████| 1029/1029 [02:36<00:00,  6.59it/s]\n",
      "Iteration: 100%|█████████████████████████████████████████████████████████████████████| 129/129 [00:19<00:00,  6.63it/s]\n",
      "Iteration: 100%|█████████████████████████████████████████████████████████████████████| 129/129 [00:21<00:00,  6.02it/s]\n",
      "Iteration:   0%|                                                                              | 0/1029 [00:00<?, ?it/s]"
     ]
    },
    {
     "name": "stdout",
     "output_type": "stream",
     "text": [
      "{'Train': {'rocauc': 0.9363820543503357}, 'Validation': {'rocauc': 0.8439796443268665}, 'Test': {'rocauc': 0.7569651789335445}}\n",
      "=====Epoch 49\n",
      "Training...\n"
     ]
    },
    {
     "name": "stderr",
     "output_type": "stream",
     "text": [
      "Iteration: 100%|███████████████████████████████████████████████████████████████████| 1029/1029 [10:07<00:00,  1.69it/s]\n",
      "Iteration:   0%|                                                                      | 1/1029 [00:00<02:04,  8.27it/s]"
     ]
    },
    {
     "name": "stdout",
     "output_type": "stream",
     "text": [
      "Evaluating...\n"
     ]
    },
    {
     "name": "stderr",
     "output_type": "stream",
     "text": [
      "Iteration: 100%|███████████████████████████████████████████████████████████████████| 1029/1029 [02:25<00:00,  7.09it/s]\n",
      "Iteration: 100%|█████████████████████████████████████████████████████████████████████| 129/129 [00:19<00:00,  6.57it/s]\n",
      "Iteration: 100%|█████████████████████████████████████████████████████████████████████| 129/129 [00:17<00:00,  7.53it/s]\n",
      "Iteration:   0%|                                                                              | 0/1029 [00:00<?, ?it/s]"
     ]
    },
    {
     "name": "stdout",
     "output_type": "stream",
     "text": [
      "{'Train': {'rocauc': 0.9393094915836003}, 'Validation': {'rocauc': 0.8519467715069567}, 'Test': {'rocauc': 0.7754495065567123}}\n",
      "=====Epoch 50\n",
      "Training...\n"
     ]
    },
    {
     "name": "stderr",
     "output_type": "stream",
     "text": [
      "Iteration: 100%|███████████████████████████████████████████████████████████████████| 1029/1029 [10:01<00:00,  1.71it/s]\n",
      "Iteration:   0%|                                                                              | 0/1029 [00:00<?, ?it/s]"
     ]
    },
    {
     "name": "stdout",
     "output_type": "stream",
     "text": [
      "Evaluating...\n"
     ]
    },
    {
     "name": "stderr",
     "output_type": "stream",
     "text": [
      "Iteration: 100%|███████████████████████████████████████████████████████████████████| 1029/1029 [02:48<00:00,  6.12it/s]\n",
      "Iteration: 100%|█████████████████████████████████████████████████████████████████████| 129/129 [00:22<00:00,  5.67it/s]\n",
      "Iteration: 100%|█████████████████████████████████████████████████████████████████████| 129/129 [00:19<00:00,  6.58it/s]\n",
      "Iteration:   0%|                                                                              | 0/1029 [00:00<?, ?it/s]"
     ]
    },
    {
     "name": "stdout",
     "output_type": "stream",
     "text": [
      "{'Train': {'rocauc': 0.9354885410699061}, 'Validation': {'rocauc': 0.8351766117969821}, 'Test': {'rocauc': 0.7741555456845439}}\n",
      "=====Epoch 51\n",
      "Training...\n"
     ]
    },
    {
     "name": "stderr",
     "output_type": "stream",
     "text": [
      "Iteration: 100%|███████████████████████████████████████████████████████████████████| 1029/1029 [10:51<00:00,  1.58it/s]\n",
      "Iteration:   0%|                                                                      | 1/1029 [00:00<02:17,  7.48it/s]"
     ]
    },
    {
     "name": "stdout",
     "output_type": "stream",
     "text": [
      "Evaluating...\n"
     ]
    },
    {
     "name": "stderr",
     "output_type": "stream",
     "text": [
      "Iteration: 100%|███████████████████████████████████████████████████████████████████| 1029/1029 [02:37<00:00,  6.53it/s]\n",
      "Iteration: 100%|█████████████████████████████████████████████████████████████████████| 129/129 [00:20<00:00,  6.16it/s]\n",
      "Iteration: 100%|█████████████████████████████████████████████████████████████████████| 129/129 [00:20<00:00,  6.24it/s]\n",
      "Iteration:   0%|                                                                              | 0/1029 [00:00<?, ?it/s]"
     ]
    },
    {
     "name": "stdout",
     "output_type": "stream",
     "text": [
      "{'Train': {'rocauc': 0.9436904016915226}, 'Validation': {'rocauc': 0.8282352292768959}, 'Test': {'rocauc': 0.7749126093590066}}\n",
      "=====Epoch 52\n",
      "Training...\n"
     ]
    },
    {
     "name": "stderr",
     "output_type": "stream",
     "text": [
      "Iteration: 100%|███████████████████████████████████████████████████████████████████| 1029/1029 [10:20<00:00,  1.66it/s]\n",
      "Iteration:   0%|                                                                      | 1/1029 [00:00<02:06,  8.09it/s]"
     ]
    },
    {
     "name": "stdout",
     "output_type": "stream",
     "text": [
      "Evaluating...\n"
     ]
    },
    {
     "name": "stderr",
     "output_type": "stream",
     "text": [
      "Iteration: 100%|███████████████████████████████████████████████████████████████████| 1029/1029 [02:23<00:00,  7.20it/s]\n",
      "Iteration: 100%|█████████████████████████████████████████████████████████████████████| 129/129 [00:21<00:00,  6.01it/s]\n",
      "Iteration: 100%|█████████████████████████████████████████████████████████████████████| 129/129 [00:17<00:00,  7.39it/s]\n",
      "Iteration:   0%|                                                                              | 0/1029 [00:00<?, ?it/s]"
     ]
    },
    {
     "name": "stdout",
     "output_type": "stream",
     "text": [
      "{'Train': {'rocauc': 0.946268535373812}, 'Validation': {'rocauc': 0.8269339114246521}, 'Test': {'rocauc': 0.7844299812665366}}\n",
      "=====Epoch 53\n",
      "Training...\n"
     ]
    },
    {
     "name": "stderr",
     "output_type": "stream",
     "text": [
      "Iteration: 100%|███████████████████████████████████████████████████████████████████| 1029/1029 [09:58<00:00,  1.72it/s]\n",
      "Iteration:   0%|                                                                      | 1/1029 [00:00<02:17,  7.48it/s]"
     ]
    },
    {
     "name": "stdout",
     "output_type": "stream",
     "text": [
      "Evaluating...\n"
     ]
    },
    {
     "name": "stderr",
     "output_type": "stream",
     "text": [
      "Iteration: 100%|███████████████████████████████████████████████████████████████████| 1029/1029 [02:27<00:00,  6.99it/s]\n",
      "Iteration: 100%|█████████████████████████████████████████████████████████████████████| 129/129 [00:19<00:00,  6.67it/s]\n",
      "Iteration: 100%|█████████████████████████████████████████████████████████████████████| 129/129 [00:17<00:00,  7.52it/s]\n",
      "Iteration:   0%|                                                                              | 0/1029 [00:00<?, ?it/s]"
     ]
    },
    {
     "name": "stdout",
     "output_type": "stream",
     "text": [
      "{'Train': {'rocauc': 0.9436356680280155}, 'Validation': {'rocauc': 0.8049768518518519}, 'Test': {'rocauc': 0.7689179010795884}}\n",
      "=====Epoch 54\n",
      "Training...\n"
     ]
    },
    {
     "name": "stderr",
     "output_type": "stream",
     "text": [
      "Iteration: 100%|███████████████████████████████████████████████████████████████████| 1029/1029 [17:31<00:00,  1.02s/it]\n",
      "Iteration:   0%|                                                                              | 0/1029 [00:00<?, ?it/s]"
     ]
    },
    {
     "name": "stdout",
     "output_type": "stream",
     "text": [
      "Evaluating...\n"
     ]
    },
    {
     "name": "stderr",
     "output_type": "stream",
     "text": [
      "Iteration:   7%|████▊                                                                | 71/1029 [00:09<02:18,  6.93it/s]"
     ]
    }
   ],
   "source": [
    "def main():\n",
    "    # Training settings\n",
    "    parser = argparse.ArgumentParser(description='GNN baselines on ogbgmol* data with Pytorch Geometrics')\n",
    "    parser.add_argument('--device', type=int, default=0,\n",
    "                        help='which gpu to use if any (default: 0)')\n",
    "    parser.add_argument('--gnn', type=str, default='graphSN-virtual',\n",
    "                        help='GNN graphSN, graphSN-virtual, or gcn, or gcn-virtual (default: gin-virtual)')\n",
    "    parser.add_argument('--drop_ratio', type=float, default=0.5,\n",
    "                        help='dropout ratio (default: 0.5)')\n",
    "    parser.add_argument('--num_layer', type=int, default=5,\n",
    "                        help='number of GNN message passing layers (default: 5)')\n",
    "    parser.add_argument('--emb_dim', type=int, default=200,\n",
    "                        help='dimensionality of hidden units in GNNs (default: 300)')\n",
    "    parser.add_argument('--batch_size', type=int, default=32,\n",
    "                        help='input batch size for training (default: 32)')\n",
    "    parser.add_argument('--epochs', type=int, default=100,\n",
    "                        help='number of epochs to train (default: 100)')\n",
    "    parser.add_argument('--num_workers', type=int, default=0,\n",
    "                        help='number of workers (default: 0)')\n",
    "    parser.add_argument('--dataset', type=str, default=\"ogbg-moltoxcast\",\n",
    "                        help='dataset name (default: ogbg-molhiv)')\n",
    "\n",
    "    parser.add_argument('--feature', type=str, default=\"full\",\n",
    "                        help='full feature or simple feature')\n",
    "    parser.add_argument('--filename', type=str, default=\"\",\n",
    "                        help='filename to output result (default: )')\n",
    "    args = parser.parse_args('')\n",
    "\n",
    "    device = torch.device(\"cuda:\" + str(args.device)) if torch.cuda.is_available() else torch.device(\"cpu\")\n",
    "\n",
    "    ### automatic dataloading and splitting\n",
    "    dataset = PygGraphPropPredDataset(name = args.dataset)\n",
    "\n",
    "    if args.feature == 'full':\n",
    "        pass \n",
    "    elif args.feature == 'simple':\n",
    "        print('using simple feature')\n",
    "        # only retain the top two node/edge features\n",
    "        dataset.data.x = dataset.data.x[:,:2]\n",
    "        dataset.data.edge_attr = dataset.data.edge_attr[:,:2]\n",
    "\n",
    "    # structural coefficients\n",
    "    data_list = add_structural_coefficients(dataset)\n",
    "    \n",
    "    split_idx = dataset.get_idx_split()\n",
    "\n",
    "    train_data_list = []\n",
    "    valid_data_list = []\n",
    "    test_data_list = []\n",
    "\n",
    "    for i in split_idx['train']:\n",
    "        index = torch.IntTensor.item(i)\n",
    "        train_data_list.append(data_list[index])\n",
    "\n",
    "    for i in split_idx['valid']:\n",
    "        index = torch.IntTensor.item(i)\n",
    "        valid_data_list.append(data_list[index])\n",
    "\n",
    "    for i in split_idx['test']:\n",
    "        index = torch.IntTensor.item(i)\n",
    "        test_data_list.append(data_list[index])\n",
    "\n",
    "    ### automatic evaluator. takes dataset name as input\n",
    "    evaluator = Evaluator(args.dataset)\n",
    "\n",
    "    train_loader = DataLoader(train_data_list, batch_size=args.batch_size, shuffle=True, num_workers=args.num_workers)\n",
    "    valid_loader = DataLoader(valid_data_list, batch_size=args.batch_size, shuffle=False, num_workers=args.num_workers)\n",
    "    test_loader = DataLoader(test_data_list, batch_size=args.batch_size, shuffle=False, num_workers=args.num_workers)\n",
    "\n",
    "    if args.gnn == 'graphSN':\n",
    "        model = GNN(gnn_type = 'graphSN', num_tasks = dataset.num_tasks, num_layer = args.num_layer, \n",
    "                    emb_dim = args.emb_dim, drop_ratio = args.drop_ratio, virtual_node = False).to(device)\n",
    "    elif args.gnn == 'graphSN-virtual':\n",
    "        model = GNN(gnn_type = 'graphSN', num_tasks = dataset.num_tasks, num_layer = args.num_layer, \n",
    "                    emb_dim = args.emb_dim, drop_ratio = args.drop_ratio, virtual_node = True).to(device)\n",
    "\n",
    "    optimizer = optim.Adam(model.parameters(), lr=0.001)\n",
    "\n",
    "    valid_curve = []\n",
    "    test_curve = []\n",
    "    train_curve = []\n",
    "\n",
    "    for epoch in range(1, args.epochs + 1):\n",
    "        print(\"=====Epoch {}\".format(epoch))\n",
    "        print('Training...')\n",
    "        train(model, device, train_loader, optimizer, dataset.task_type)\n",
    "\n",
    "        print('Evaluating...')\n",
    "        train_perf = eval(model, device, train_loader, evaluator)\n",
    "        valid_perf = eval(model, device, valid_loader, evaluator)\n",
    "        test_perf = eval(model, device, test_loader, evaluator)\n",
    "\n",
    "        print({'Train': train_perf, 'Validation': valid_perf, 'Test': test_perf})\n",
    "\n",
    "        train_curve.append(train_perf[dataset.eval_metric])\n",
    "        valid_curve.append(valid_perf[dataset.eval_metric])\n",
    "        test_curve.append(test_perf[dataset.eval_metric])\n",
    "\n",
    "    if 'classification' in dataset.task_type:\n",
    "        best_val_epoch = np.argmax(np.array(valid_curve))\n",
    "        best_train = max(train_curve)\n",
    "    else:\n",
    "        best_val_epoch = np.argmin(np.array(valid_curve))\n",
    "        best_train = min(train_curve)\n",
    "\n",
    "    print('Finished training!')\n",
    "    print('Best validation score: {}'.format(valid_curve[best_val_epoch]))\n",
    "    print('Test score: {}'.format(test_curve[best_val_epoch]))\n",
    "\n",
    "    if not args.filename == '':\n",
    "        torch.save({'Val': valid_curve[best_val_epoch], 'Test': test_curve[best_val_epoch], \n",
    "                    'Train': train_curve[best_val_epoch], 'BestTrain': best_train}, args.filename)\n",
    "\n",
    "\n",
    "if __name__ == \"__main__\":\n",
    "    main()"
   ]
  },
  {
   "cell_type": "code",
   "execution_count": null,
   "id": "supreme-terrain",
   "metadata": {},
   "outputs": [],
   "source": []
  }
 ],
 "metadata": {
  "kernelspec": {
   "display_name": "Python 3",
   "language": "python",
   "name": "python3"
  },
  "language_info": {
   "codemirror_mode": {
    "name": "ipython",
    "version": 3
   },
   "file_extension": ".py",
   "mimetype": "text/x-python",
   "name": "python",
   "nbconvert_exporter": "python",
   "pygments_lexer": "ipython3",
   "version": "3.6.12"
  }
 },
 "nbformat": 4,
 "nbformat_minor": 5
}
